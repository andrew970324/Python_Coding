{
 "cells": [
  {
   "cell_type": "markdown",
   "id": "8bb9d657",
   "metadata": {},
   "source": [
    "Self-assessment: The exercises this week were defintiely a bit more challenging but I managed to finish all of them except for optional exercise 5.33. One thing I struggle with at times is keeping my code as simplified as possible and not overly complex. In addition, I also tried adding in comments to help explain what a certain line of code does, in case I was presenting this to someone who doesn't have a technical background."
   ]
  },
  {
   "cell_type": "markdown",
   "id": "45046f87",
   "metadata": {},
   "source": [
    "# 4.3 What's Wrong with This Code? (Optional)"
   ]
  },
  {
   "cell_type": "code",
   "execution_count": 1,
   "id": "0fd8f515",
   "metadata": {},
   "outputs": [
    {
     "name": "stdout",
     "output_type": "stream",
     "text": [
      "The cube of 2 is None\n"
     ]
    }
   ],
   "source": [
    "def cube(x):\n",
    "    \"\"\"Calculate the cube of x.\"\"\"\n",
    "    x ** 3\n",
    "    \n",
    "print('The cube of 2 is', cube(2))"
   ]
  },
  {
   "cell_type": "markdown",
   "id": "c2e40708",
   "metadata": {},
   "source": [
    "As we can see from the code above, the issue is the function is missing the `return` statement which would give the result back to the caller. Because it is missing, the function will return \"None\" when called upon in the print statement. This can be fixed by adding the `return` statement as I've done below to the fixed code."
   ]
  },
  {
   "cell_type": "code",
   "execution_count": 2,
   "id": "95f7bba8",
   "metadata": {},
   "outputs": [
    {
     "name": "stdout",
     "output_type": "stream",
     "text": [
      "The cube of 2 is 8\n"
     ]
    }
   ],
   "source": [
    "def cube(x):\n",
    "    \"\"\"Calculate the cube of x.\"\"\"\n",
    "    return x ** 3\n",
    "\n",
    "print('The cube of 2 is', cube(2))"
   ]
  },
  {
   "cell_type": "markdown",
   "id": "c5a70426",
   "metadata": {},
   "source": [
    "# 4.9 Data Science: Temperature Conversion"
   ]
  },
  {
   "cell_type": "code",
   "execution_count": 3,
   "id": "dd3ed24a",
   "metadata": {},
   "outputs": [
    {
     "name": "stdout",
     "output_type": "stream",
     "text": [
      "0 degrees Celsius = 32.0 degrees Fahrenheit\n",
      "1 degrees Celsius = 33.8 degrees Fahrenheit\n",
      "2 degrees Celsius = 35.6 degrees Fahrenheit\n",
      "3 degrees Celsius = 37.4 degrees Fahrenheit\n",
      "4 degrees Celsius = 39.2 degrees Fahrenheit\n",
      "5 degrees Celsius = 41.0 degrees Fahrenheit\n",
      "6 degrees Celsius = 42.8 degrees Fahrenheit\n",
      "7 degrees Celsius = 44.6 degrees Fahrenheit\n",
      "8 degrees Celsius = 46.4 degrees Fahrenheit\n",
      "9 degrees Celsius = 48.2 degrees Fahrenheit\n",
      "10 degrees Celsius = 50.0 degrees Fahrenheit\n",
      "11 degrees Celsius = 51.8 degrees Fahrenheit\n",
      "12 degrees Celsius = 53.6 degrees Fahrenheit\n",
      "13 degrees Celsius = 55.4 degrees Fahrenheit\n",
      "14 degrees Celsius = 57.2 degrees Fahrenheit\n",
      "15 degrees Celsius = 59.0 degrees Fahrenheit\n",
      "16 degrees Celsius = 60.8 degrees Fahrenheit\n",
      "17 degrees Celsius = 62.6 degrees Fahrenheit\n",
      "18 degrees Celsius = 64.4 degrees Fahrenheit\n",
      "19 degrees Celsius = 66.2 degrees Fahrenheit\n",
      "20 degrees Celsius = 68.0 degrees Fahrenheit\n",
      "21 degrees Celsius = 69.8 degrees Fahrenheit\n",
      "22 degrees Celsius = 71.6 degrees Fahrenheit\n",
      "23 degrees Celsius = 73.4 degrees Fahrenheit\n",
      "24 degrees Celsius = 75.2 degrees Fahrenheit\n",
      "25 degrees Celsius = 77.0 degrees Fahrenheit\n",
      "26 degrees Celsius = 78.8 degrees Fahrenheit\n",
      "27 degrees Celsius = 80.6 degrees Fahrenheit\n",
      "28 degrees Celsius = 82.4 degrees Fahrenheit\n",
      "29 degrees Celsius = 84.2 degrees Fahrenheit\n",
      "30 degrees Celsius = 86.0 degrees Fahrenheit\n",
      "31 degrees Celsius = 87.8 degrees Fahrenheit\n",
      "32 degrees Celsius = 89.6 degrees Fahrenheit\n",
      "33 degrees Celsius = 91.4 degrees Fahrenheit\n",
      "34 degrees Celsius = 93.2 degrees Fahrenheit\n",
      "35 degrees Celsius = 95.0 degrees Fahrenheit\n",
      "36 degrees Celsius = 96.8 degrees Fahrenheit\n",
      "37 degrees Celsius = 98.6 degrees Fahrenheit\n",
      "38 degrees Celsius = 100.4 degrees Fahrenheit\n",
      "39 degrees Celsius = 102.2 degrees Fahrenheit\n",
      "40 degrees Celsius = 104.0 degrees Fahrenheit\n",
      "41 degrees Celsius = 105.8 degrees Fahrenheit\n",
      "42 degrees Celsius = 107.6 degrees Fahrenheit\n",
      "43 degrees Celsius = 109.4 degrees Fahrenheit\n",
      "44 degrees Celsius = 111.2 degrees Fahrenheit\n",
      "45 degrees Celsius = 113.0 degrees Fahrenheit\n",
      "46 degrees Celsius = 114.8 degrees Fahrenheit\n",
      "47 degrees Celsius = 116.6 degrees Fahrenheit\n",
      "48 degrees Celsius = 118.4 degrees Fahrenheit\n",
      "49 degrees Celsius = 120.2 degrees Fahrenheit\n",
      "50 degrees Celsius = 122.0 degrees Fahrenheit\n",
      "51 degrees Celsius = 123.8 degrees Fahrenheit\n",
      "52 degrees Celsius = 125.6 degrees Fahrenheit\n",
      "53 degrees Celsius = 127.4 degrees Fahrenheit\n",
      "54 degrees Celsius = 129.2 degrees Fahrenheit\n",
      "55 degrees Celsius = 131.0 degrees Fahrenheit\n",
      "56 degrees Celsius = 132.8 degrees Fahrenheit\n",
      "57 degrees Celsius = 134.6 degrees Fahrenheit\n",
      "58 degrees Celsius = 136.4 degrees Fahrenheit\n",
      "59 degrees Celsius = 138.2 degrees Fahrenheit\n",
      "60 degrees Celsius = 140.0 degrees Fahrenheit\n",
      "61 degrees Celsius = 141.8 degrees Fahrenheit\n",
      "62 degrees Celsius = 143.6 degrees Fahrenheit\n",
      "63 degrees Celsius = 145.4 degrees Fahrenheit\n",
      "64 degrees Celsius = 147.2 degrees Fahrenheit\n",
      "65 degrees Celsius = 149.0 degrees Fahrenheit\n",
      "66 degrees Celsius = 150.8 degrees Fahrenheit\n",
      "67 degrees Celsius = 152.6 degrees Fahrenheit\n",
      "68 degrees Celsius = 154.4 degrees Fahrenheit\n",
      "69 degrees Celsius = 156.2 degrees Fahrenheit\n",
      "70 degrees Celsius = 158.0 degrees Fahrenheit\n",
      "71 degrees Celsius = 159.8 degrees Fahrenheit\n",
      "72 degrees Celsius = 161.6 degrees Fahrenheit\n",
      "73 degrees Celsius = 163.4 degrees Fahrenheit\n",
      "74 degrees Celsius = 165.2 degrees Fahrenheit\n",
      "75 degrees Celsius = 167.0 degrees Fahrenheit\n",
      "76 degrees Celsius = 168.8 degrees Fahrenheit\n",
      "77 degrees Celsius = 170.6 degrees Fahrenheit\n",
      "78 degrees Celsius = 172.4 degrees Fahrenheit\n",
      "79 degrees Celsius = 174.2 degrees Fahrenheit\n",
      "80 degrees Celsius = 176.0 degrees Fahrenheit\n",
      "81 degrees Celsius = 177.8 degrees Fahrenheit\n",
      "82 degrees Celsius = 179.6 degrees Fahrenheit\n",
      "83 degrees Celsius = 181.4 degrees Fahrenheit\n",
      "84 degrees Celsius = 183.2 degrees Fahrenheit\n",
      "85 degrees Celsius = 185.0 degrees Fahrenheit\n",
      "86 degrees Celsius = 186.8 degrees Fahrenheit\n",
      "87 degrees Celsius = 188.6 degrees Fahrenheit\n",
      "88 degrees Celsius = 190.4 degrees Fahrenheit\n",
      "89 degrees Celsius = 192.2 degrees Fahrenheit\n",
      "90 degrees Celsius = 194.0 degrees Fahrenheit\n",
      "91 degrees Celsius = 195.8 degrees Fahrenheit\n",
      "92 degrees Celsius = 197.6 degrees Fahrenheit\n",
      "93 degrees Celsius = 199.4 degrees Fahrenheit\n",
      "94 degrees Celsius = 201.2 degrees Fahrenheit\n",
      "95 degrees Celsius = 203.0 degrees Fahrenheit\n",
      "96 degrees Celsius = 204.8 degrees Fahrenheit\n",
      "97 degrees Celsius = 206.6 degrees Fahrenheit\n",
      "98 degrees Celsius = 208.4 degrees Fahrenheit\n",
      "99 degrees Celsius = 210.2 degrees Fahrenheit\n",
      "100 degrees Celsius = 212.0 degrees Fahrenheit\n"
     ]
    }
   ],
   "source": [
    "def fahrenheit(celsius):\n",
    "    \"\"\"Convert Celsius temperature to Fahrenheit Temperature.\"\"\"\n",
    "    return celsius * (9 / 5) + 32\n",
    "\n",
    "for degree in range(101):\n",
    "    fahrenheit(degree)\n",
    "    print(f'{degree} degrees Celsius = {fahrenheit(degree):.1f} degrees Fahrenheit')\n"
   ]
  },
  {
   "cell_type": "markdown",
   "id": "a4001549",
   "metadata": {},
   "source": [
    "# 4.14 Computer-Assisted Instruction (Optional)"
   ]
  },
  {
   "cell_type": "code",
   "execution_count": null,
   "id": "832bae98",
   "metadata": {
    "scrolled": false
   },
   "outputs": [
    {
     "name": "stdout",
     "output_type": "stream",
     "text": [
      "How much is 8 times 7? 56\n",
      "Very good!\n",
      "\n",
      "How much is 6 times 8? 48\n",
      "Very good!\n",
      "\n",
      "How much is 2 times 8? 10\n",
      "No. Please try again.\n",
      "\n",
      "How much is 2 times 8? 16\n",
      "Very good!\n",
      "\n",
      "How much is 1 times 6? 7\n",
      "No. Please try again.\n",
      "\n",
      "How much is 1 times 6? 6\n",
      "Very good!\n",
      "\n"
     ]
    }
   ],
   "source": [
    "import random\n",
    "\n",
    "def two_integers():\n",
    "    \"\"\"Generate and return a tuple of two positive one-digit integers.\"\"\"\n",
    "    integer_1 = random.randrange(1, 10)\n",
    "    integer_2 = random.randrange(1, 10)\n",
    "    return (integer_1, integer_2) # return random integer values as a tuple\n",
    "\n",
    "def check_answer(integers):\n",
    "    \"\"\"Check if the user's answer to the question is correct.\"\"\"\n",
    "    integer_1, integer_2 = integers\n",
    "    answer = int(input(f'How much is {integer_1} times {integer_2}? '))\n",
    "    if answer == integer_1 * integer_2:\n",
    "        print('Very good!')\n",
    "        print('')\n",
    "        new_integer_values = two_integers() # generate new random one-digit integers\n",
    "        check_answer(new_integer_values) # asks the same question with new integers\n",
    "    else:\n",
    "        print('No. Please try again.')\n",
    "        print('')\n",
    "        check_answer(integers) # asks the same question with the same integers again\n",
    "        \n",
    "integer_values = two_integers()\n",
    "check_answer(integer_values)"
   ]
  },
  {
   "cell_type": "markdown",
   "id": "600b89a6",
   "metadata": {},
   "source": [
    "# 5.6 Functions Returning Tuples"
   ]
  },
  {
   "cell_type": "markdown",
   "id": "6f0680f2",
   "metadata": {},
   "source": [
    "I'm a bit confused as to why we need to call the function three times? I called the function once here and was able to return a tuple in which the three arguments are switched to a different index as requested."
   ]
  },
  {
   "cell_type": "code",
   "execution_count": 4,
   "id": "072d9922",
   "metadata": {},
   "outputs": [
    {
     "data": {
      "text/plain": [
       "(1984, 'Doug', 22)"
      ]
     },
     "execution_count": 4,
     "metadata": {},
     "output_type": "execute_result"
    }
   ],
   "source": [
    "a = 'Doug'\n",
    "b = 22\n",
    "c = 1984\n",
    "\n",
    "def rotate(argument_1, argument_2, argument_3):\n",
    "    \"\"\"Re-orders arguments and returns a tuple.\"\"\"\n",
    "    argument_1, argument_2, argument_3 = (argument_3, argument_1, argument_2)\n",
    "    return argument_1, argument_2, argument_3\n",
    "\n",
    "rotate(a, b, c)"
   ]
  },
  {
   "cell_type": "markdown",
   "id": "39d51e7c",
   "metadata": {},
   "source": [
    "# 5.7 Data Science: Duplicate Elimination"
   ]
  },
  {
   "cell_type": "code",
   "execution_count": 5,
   "id": "5b435b23",
   "metadata": {},
   "outputs": [
    {
     "name": "stdout",
     "output_type": "stream",
     "text": [
      "[1, 2, 3, 4, 5, 6, 7, 8, 9, 10]\n",
      "['Apple', 'Ball', 'Dog', 'Door', 'Kite', 'Name', 'Zebra']\n"
     ]
    }
   ],
   "source": [
    "def unique_values(items):\n",
    "    \"\"\"Receives a list and returns a list with unique values in sorted order.\"\"\"\n",
    "    unique_items = []\n",
    "    for i in items:\n",
    "        if i not in unique_items:\n",
    "            unique_items.append(i)\n",
    "    unique_items.sort()\n",
    "    return unique_items\n",
    "\n",
    "numbers = [8, 4, 3, 8, 9, 1, 2, 5, 5, 6, 10, 7, 7]\n",
    "strings = ['Apple', 'Zebra', 'Dog', 'Door', 'Kite', 'Ball', 'Name', 'Name']\n",
    "\n",
    "print(unique_values(numbers))\n",
    "print(unique_values(strings))"
   ]
  },
  {
   "cell_type": "markdown",
   "id": "9e61ed98",
   "metadata": {},
   "source": [
    "# 5.14 Is a Sequence Sorted?"
   ]
  },
  {
   "cell_type": "code",
   "execution_count": 6,
   "id": "def5d446",
   "metadata": {},
   "outputs": [
    {
     "name": "stdout",
     "output_type": "stream",
     "text": [
      "True\n",
      "False\n",
      "True\n",
      "False\n",
      "True\n",
      "False\n"
     ]
    }
   ],
   "source": [
    "def is_ordered(sequence):\n",
    "    \"\"\"Receives a sequence and returns True if elements are sorted.\"\"\"\n",
    "    status = 'sorted' \n",
    "    for i in range(len(sequence) - 1):\n",
    "        if sequence[i] <= sequence[i + 1]:\n",
    "            continue\n",
    "        else:\n",
    "            status = 'not sorted'\n",
    "    return status == 'sorted'\n",
    "\n",
    "# Below are sorted and unsorted lists, tuples and strings\n",
    "\n",
    "sorted_numbers = [1, 2, 3, 4, 5]\n",
    "unsorted_numbers = [1, 2, 1, 4, 3] \n",
    "sorted_tuple = (1, 2, 3, 4, 5) \n",
    "unsorted_tuple = (5, 4, 3, 2, 1) \n",
    "sorted_strings = ['a', 'b', 'c', 'd', 'e'] \n",
    "unsorted_strings = ['e', 'd', 'c', 'b', 'a'] \n",
    "\n",
    "# Below are the values of each of the above lists, tuples and strings\n",
    "\n",
    "print(is_ordered(sorted_numbers))\n",
    "print(is_ordered(unsorted_numbers))\n",
    "print(is_ordered(sorted_tuple))\n",
    "print(is_ordered(unsorted_tuple))\n",
    "print(is_ordered(sorted_strings))\n",
    "print(is_ordered(unsorted_strings))"
   ]
  },
  {
   "cell_type": "markdown",
   "id": "1d1a706d",
   "metadata": {},
   "source": [
    "# 5.27 Data Science: Duplicate Elimination and Counting Frequencies"
   ]
  },
  {
   "cell_type": "code",
   "execution_count": 7,
   "id": "879cd542",
   "metadata": {},
   "outputs": [
    {
     "data": {
      "text/plain": [
       "[Text(0.5, 0, 'Number'), Text(0, 0.5, 'Frequency')]"
      ]
     },
     "execution_count": 7,
     "metadata": {},
     "output_type": "execute_result"
    },
    {
     "data": {
      "image/png": "[encoded data removed]",
      "text/plain": [
       "<Figure size 432x288 with 1 Axes>"
      ]
     },
     "metadata": {},
     "output_type": "display_data"
    }
   ],
   "source": [
    "import random\n",
    "import numpy as np\n",
    "import seaborn as sns\n",
    "\n",
    "numbers = [random.randrange(1, 11) for i in range(50)]\n",
    "values, frequencies = np.unique(numbers, return_counts=True)\n",
    "\n",
    "title = 'Random Number Frequency Results'\n",
    "\n",
    "sns.set_style('whitegrid')\n",
    "\n",
    "axes = sns.barplot(x=values, y=frequencies, palette='bright')\n",
    "\n",
    "axes.set_title(title)\n",
    "\n",
    "axes.set(xlabel='Number', ylabel='Frequency')"
   ]
  }
 ],
 "metadata": {
  "kernelspec": {
   "display_name": "Python 3",
   "language": "python",
   "name": "python3"
  },
  "language_info": {
   "codemirror_mode": {
    "name": "ipython",
    "version": 3
   },
   "file_extension": ".py",
   "mimetype": "text/x-python",
   "name": "python",
   "nbconvert_exporter": "python",
   "pygments_lexer": "ipython3",
   "version": "3.8.8"
  }
 },
 "nbformat": 4,
 "nbformat_minor": 5
}
