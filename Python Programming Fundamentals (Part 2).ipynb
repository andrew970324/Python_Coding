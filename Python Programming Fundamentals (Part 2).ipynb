{
 "cells": [
  {
   "cell_type": "markdown",
   "id": "f151e13b",
   "metadata": {},
   "source": [
    "# 3.10 7% Investment Return"
   ]
  },
  {
   "cell_type": "code",
   "execution_count": 1,
   "id": "994fc874",
   "metadata": {},
   "outputs": [
    {
     "name": "stdout",
     "output_type": "stream",
     "text": [
      "Money after year 1: $1070.00\n",
      "Money after year 2: $1144.90\n",
      "Money after year 3: $1225.04\n",
      "Money after year 4: $1310.80\n",
      "Money after year 5: $1402.55\n",
      "Money after year 6: $1500.73\n",
      "Money after year 7: $1605.78\n",
      "Money after year 8: $1718.19\n",
      "Money after year 9: $1838.46\n",
      "Money after year 10: $1967.15\n",
      "Money after year 11: $2104.85\n",
      "Money after year 12: $2252.19\n",
      "Money after year 13: $2409.85\n",
      "Money after year 14: $2578.53\n",
      "Money after year 15: $2759.03\n",
      "Money after year 16: $2952.16\n",
      "Money after year 17: $3158.82\n",
      "Money after year 18: $3379.93\n",
      "Money after year 19: $3616.53\n",
      "Money after year 20: $3869.68\n",
      "Money after year 21: $4140.56\n",
      "Money after year 22: $4430.40\n",
      "Money after year 23: $4740.53\n",
      "Money after year 24: $5072.37\n",
      "Money after year 25: $5427.43\n",
      "Money after year 26: $5807.35\n",
      "Money after year 27: $6213.87\n",
      "Money after year 28: $6648.84\n",
      "Money after year 29: $7114.26\n",
      "Money after year 30: $7612.26\n"
     ]
    }
   ],
   "source": [
    "principal_value = 1000\n",
    "rate_of_return = .07\n",
    "year_counter = 0\n",
    "\n",
    "for year in range(1, 31):\n",
    "    total_money = (principal_value) * (1 + rate_of_return) ** (year)\n",
    "    year_counter += 1\n",
    "    print(f'Money after year {year_counter}: ${total_money:.2f}')"
   ]
  },
  {
   "cell_type": "markdown",
   "id": "0d7a8713",
   "metadata": {},
   "source": [
    "# 3.13 Factorials"
   ]
  },
  {
   "cell_type": "code",
   "execution_count": 2,
   "id": "2b4c56b2",
   "metadata": {},
   "outputs": [
    {
     "name": "stdout",
     "output_type": "stream",
     "text": [
      "Enter a nonnegative integer: 50\n",
      "Here is the factorial: 30414093201713378043612608166064768844377641568960512000000000000\n"
     ]
    }
   ],
   "source": [
    "nonnegative_integer = int(input('Enter a nonnegative integer: '))\n",
    "factorial = 1\n",
    "\n",
    "for number in range(nonnegative_integer, 0, -1):\n",
    "    factorial *= (number)\n",
    "    \n",
    "print('Here is the factorial:', factorial)"
   ]
  },
  {
   "cell_type": "markdown",
   "id": "df5ef418",
   "metadata": {},
   "source": [
    "I tried my script with the value of 50 and found that it still worked. So I haven't found any integer inputs that couldn't produce an integer factorial value."
   ]
  },
  {
   "cell_type": "markdown",
   "id": "4bfe6a09",
   "metadata": {},
   "source": [
    "# 3.31 Data Science: Categorical Data"
   ]
  },
  {
   "cell_type": "markdown",
   "id": "f877438d",
   "metadata": {},
   "source": [
    "When it comes to categorical data, the most appropriate summary statistics seem to be for counts and percentages. For example, if you have a mix of dogs of different breeds like Boxer, Poodle, or Beagle, you can count the number of Boxers or Beagles and then find a percentage relative to total dogs based on that number.\n",
    "<br> \n",
    "<br>\n",
    "Because of this, I believe mode may be useful here as a descriptive statistic since this could tell you which one of your categorical variables appears most frequently which could be significant to note. \n",
    "\n"
   ]
  },
  {
   "cell_type": "markdown",
   "id": "3aa340ea",
   "metadata": {},
   "source": [
    "# 3.17 Nested Loops"
   ]
  },
  {
   "cell_type": "code",
   "execution_count": 48,
   "id": "e924560b",
   "metadata": {
    "scrolled": true
   },
   "outputs": [
    {
     "name": "stdout",
     "output_type": "stream",
     "text": [
      "* \n",
      "* * \n",
      "* * * \n",
      "* * * * \n",
      "* * * * * \n",
      "* * * * * * \n",
      "* * * * * * * \n",
      "* * * * * * * * \n",
      "* * * * * * * * * \n",
      "* * * * * * * * * * \n",
      "\n",
      "* * * * * * * * * * \n",
      "* * * * * * * * * \n",
      "* * * * * * * * \n",
      "* * * * * * * \n",
      "* * * * * * \n",
      "* * * * * \n",
      "* * * * \n",
      "* * * \n",
      "* * \n",
      "* \n",
      "\n",
      "* * * * * * * * * * \n",
      "  * * * * * * * * * \n",
      "    * * * * * * * * \n",
      "      * * * * * * * \n",
      "        * * * * * * \n",
      "          * * * * * \n",
      "            * * * * \n",
      "              * * * \n",
      "                * * \n",
      "                  * \n",
      "\n",
      "                    \n",
      "                  * \n",
      "                * * \n",
      "              * * * \n",
      "            * * * * \n",
      "          * * * * * \n",
      "        * * * * * * \n",
      "      * * * * * * * \n",
      "    * * * * * * * * \n",
      "  * * * * * * * * * \n",
      "* * * * * * * * * * \n"
     ]
    }
   ],
   "source": [
    "# (a) Pattern 1\n",
    "for count_1 in range(1, 11):\n",
    "    for count_2 in range(1, count_1 + 1):\n",
    "        print('*', end=' ')\n",
    "    print()\n",
    "\n",
    "print()    \n",
    "\n",
    "# (b) Pattern 2\n",
    "for count_1 in range(1, 11):\n",
    "    for count_2 in range(11, count_1, -1):\n",
    "        print('*', end=' ')\n",
    "    print()\n",
    "\n",
    "print()\n",
    "\n",
    "# (c) Pattern 3\n",
    "for count in range(0, 10):\n",
    "    print('  ' * count, '* ' * (10 - count), sep='')\n",
    "    \n",
    "print()\n",
    "\n",
    "# (d) Pattern 4\n",
    "for count in range(0, 11):\n",
    "    print('  ' * (10 - count), '* ' * (count), sep='')"
   ]
  },
  {
   "cell_type": "markdown",
   "id": "5e9c52a7",
   "metadata": {},
   "source": [
    "# 3.26 Data Science Research: Anscombe's Quartet"
   ]
  },
  {
   "cell_type": "markdown",
   "id": "dc8eb37e",
   "metadata": {},
   "source": [
    "A very interesting read! It definitely illustrates the importance of looking at your data graphically before trying to fit any type of regression model or relationship to it. And it also lets you understand the importance of not just simply looking at descriptive statistics to understand data."
   ]
  },
  {
   "cell_type": "markdown",
   "id": "1466aef1",
   "metadata": {},
   "source": [
    "# 3.24 Project: Using the prospector Static Code Analysis Tool"
   ]
  },
  {
   "cell_type": "markdown",
   "id": "da5841bf",
   "metadata": {},
   "source": [
    "Below is what was in the output when I ran the command from the textbook:"
   ]
  },
  {
   "cell_type": "markdown",
   "id": "90b442cf",
   "metadata": {},
   "source": [
    "         Started: 2021-09-10 01:13:01.145326\n",
    "        Finished: 2021-09-10 01:13:01.436508\n",
    "      Time Taken: 0.29 seconds\n",
    "       Formatter: grouped\n",
    "        Profiles: default, doc_warnings, strictness_veryhigh, no_doc_warnings, no_test_warnings, no_member_warnings\n",
    "      Strictness: veryhigh\n",
    "  Libraries Used:\n",
    "       Tools Run: dodgy, mccabe, pep257, pep8, profile-validator, pyflakes, pylint\n",
    "  Messages Found: 0"
   ]
  }
 ],
 "metadata": {
  "kernelspec": {
   "display_name": "Python 3",
   "language": "python",
   "name": "python3"
  },
  "language_info": {
   "codemirror_mode": {
    "name": "ipython",
    "version": 3
   },
   "file_extension": ".py",
   "mimetype": "text/x-python",
   "name": "python",
   "nbconvert_exporter": "python",
   "pygments_lexer": "ipython3",
   "version": "3.8.8"
  }
 },
 "nbformat": 4,
 "nbformat_minor": 5
}
