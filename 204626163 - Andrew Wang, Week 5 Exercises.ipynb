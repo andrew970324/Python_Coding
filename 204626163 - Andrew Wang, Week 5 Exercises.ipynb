{
 "cells": [
  {
   "cell_type": "markdown",
   "id": "7c9aeb4c",
   "metadata": {},
   "source": [
    "Self-assessment: I felt more confident with this week's exercises and was able to figure things out without too much difficulty. I struggled a bit with 8.13 at first but used the `sub` function which helped. In addition, I think my code for 8.3 could have been greatly simplified as well but I'm not so sure how yet."
   ]
  },
  {
   "cell_type": "markdown",
   "id": "20a90e26",
   "metadata": {},
   "source": [
    "# 7.23 Panda: DataFrames"
   ]
  },
  {
   "cell_type": "code",
   "execution_count": 32,
   "id": "e4e00758",
   "metadata": {},
   "outputs": [],
   "source": [
    "import pandas as pd # We import the pandas library first here so we can use its functions and capabilities below"
   ]
  },
  {
   "cell_type": "code",
   "execution_count": 33,
   "id": "594ee883",
   "metadata": {},
   "outputs": [
    {
     "data": {
      "text/html": [
       "<div>\n",
       "<style scoped>\n",
       "    .dataframe tbody tr th:only-of-type {\n",
       "        vertical-align: middle;\n",
       "    }\n",
       "\n",
       "    .dataframe tbody tr th {\n",
       "        vertical-align: top;\n",
       "    }\n",
       "\n",
       "    .dataframe thead th {\n",
       "        text-align: right;\n",
       "    }\n",
       "</style>\n",
       "<table border=\"1\" class=\"dataframe\">\n",
       "  <thead>\n",
       "    <tr style=\"text-align: right;\">\n",
       "      <th></th>\n",
       "      <th>Maxine</th>\n",
       "      <th>James</th>\n",
       "      <th>Amanda</th>\n",
       "    </tr>\n",
       "  </thead>\n",
       "  <tbody>\n",
       "    <tr>\n",
       "      <th>0</th>\n",
       "      <td>98.6</td>\n",
       "      <td>97.8</td>\n",
       "      <td>99.1</td>\n",
       "    </tr>\n",
       "    <tr>\n",
       "      <th>1</th>\n",
       "      <td>98.4</td>\n",
       "      <td>98.1</td>\n",
       "      <td>100.2</td>\n",
       "    </tr>\n",
       "    <tr>\n",
       "      <th>2</th>\n",
       "      <td>98.8</td>\n",
       "      <td>98.5</td>\n",
       "      <td>99.3</td>\n",
       "    </tr>\n",
       "  </tbody>\n",
       "</table>\n",
       "</div>"
      ],
      "text/plain": [
       "   Maxine  James  Amanda\n",
       "0    98.6   97.8    99.1\n",
       "1    98.4   98.1   100.2\n",
       "2    98.8   98.5    99.3"
      ]
     },
     "execution_count": 33,
     "metadata": {},
     "output_type": "execute_result"
    }
   ],
   "source": [
    "# Part (a)\n",
    "temperature_dict = {'Maxine': [98.6, 98.4, 98.8], \n",
    "                    'James': [97.8, 98.1, 98.5], \n",
    "                    'Amanda': [99.1, 100.2, 99.3]} # Create the initial dictionary of three temperature readings\n",
    "\n",
    "temperatures = pd.DataFrame(temperature_dict) # Creates the DataFrame from our dictionary of temperatures\n",
    "temperatures"
   ]
  },
  {
   "cell_type": "code",
   "execution_count": 34,
   "id": "c6bfbbe3",
   "metadata": {},
   "outputs": [
    {
     "data": {
      "text/html": [
       "<div>\n",
       "<style scoped>\n",
       "    .dataframe tbody tr th:only-of-type {\n",
       "        vertical-align: middle;\n",
       "    }\n",
       "\n",
       "    .dataframe tbody tr th {\n",
       "        vertical-align: top;\n",
       "    }\n",
       "\n",
       "    .dataframe thead th {\n",
       "        text-align: right;\n",
       "    }\n",
       "</style>\n",
       "<table border=\"1\" class=\"dataframe\">\n",
       "  <thead>\n",
       "    <tr style=\"text-align: right;\">\n",
       "      <th></th>\n",
       "      <th>Maxine</th>\n",
       "      <th>James</th>\n",
       "      <th>Amanda</th>\n",
       "    </tr>\n",
       "  </thead>\n",
       "  <tbody>\n",
       "    <tr>\n",
       "      <th>Morning</th>\n",
       "      <td>98.6</td>\n",
       "      <td>97.8</td>\n",
       "      <td>99.1</td>\n",
       "    </tr>\n",
       "    <tr>\n",
       "      <th>Afternoon</th>\n",
       "      <td>98.4</td>\n",
       "      <td>98.1</td>\n",
       "      <td>100.2</td>\n",
       "    </tr>\n",
       "    <tr>\n",
       "      <th>Evening</th>\n",
       "      <td>98.8</td>\n",
       "      <td>98.5</td>\n",
       "      <td>99.3</td>\n",
       "    </tr>\n",
       "  </tbody>\n",
       "</table>\n",
       "</div>"
      ],
      "text/plain": [
       "           Maxine  James  Amanda\n",
       "Morning      98.6   97.8    99.1\n",
       "Afternoon    98.4   98.1   100.2\n",
       "Evening      98.8   98.5    99.3"
      ]
     },
     "execution_count": 34,
     "metadata": {},
     "output_type": "execute_result"
    }
   ],
   "source": [
    "# Part (b)\n",
    "temperatures.index = ['Morning', 'Afternoon', 'Evening'] # Recreate the DataFrame with custom indice labels\n",
    "temperatures"
   ]
  },
  {
   "cell_type": "code",
   "execution_count": 35,
   "id": "ea03f4ca",
   "metadata": {},
   "outputs": [
    {
     "data": {
      "text/plain": [
       "Morning      98.6\n",
       "Afternoon    98.4\n",
       "Evening      98.8\n",
       "Name: Maxine, dtype: float64"
      ]
     },
     "execution_count": 35,
     "metadata": {},
     "output_type": "execute_result"
    }
   ],
   "source": [
    "# Part (c)\n",
    "temperatures['Maxine'] # Column of temperature readings for Maxine"
   ]
  },
  {
   "cell_type": "code",
   "execution_count": 36,
   "id": "99842021",
   "metadata": {
    "scrolled": true
   },
   "outputs": [
    {
     "data": {
      "text/plain": [
       "Maxine    98.6\n",
       "James     97.8\n",
       "Amanda    99.1\n",
       "Name: Morning, dtype: float64"
      ]
     },
     "execution_count": 36,
     "metadata": {},
     "output_type": "execute_result"
    }
   ],
   "source": [
    "# Part (d)\n",
    "temperatures.loc['Morning'] # Shows only morning temperatures for each person"
   ]
  },
  {
   "cell_type": "code",
   "execution_count": 37,
   "id": "6ff65735",
   "metadata": {},
   "outputs": [
    {
     "data": {
      "text/html": [
       "<div>\n",
       "<style scoped>\n",
       "    .dataframe tbody tr th:only-of-type {\n",
       "        vertical-align: middle;\n",
       "    }\n",
       "\n",
       "    .dataframe tbody tr th {\n",
       "        vertical-align: top;\n",
       "    }\n",
       "\n",
       "    .dataframe thead th {\n",
       "        text-align: right;\n",
       "    }\n",
       "</style>\n",
       "<table border=\"1\" class=\"dataframe\">\n",
       "  <thead>\n",
       "    <tr style=\"text-align: right;\">\n",
       "      <th></th>\n",
       "      <th>Maxine</th>\n",
       "      <th>James</th>\n",
       "      <th>Amanda</th>\n",
       "    </tr>\n",
       "  </thead>\n",
       "  <tbody>\n",
       "    <tr>\n",
       "      <th>Morning</th>\n",
       "      <td>98.6</td>\n",
       "      <td>97.8</td>\n",
       "      <td>99.1</td>\n",
       "    </tr>\n",
       "    <tr>\n",
       "      <th>Evening</th>\n",
       "      <td>98.8</td>\n",
       "      <td>98.5</td>\n",
       "      <td>99.3</td>\n",
       "    </tr>\n",
       "  </tbody>\n",
       "</table>\n",
       "</div>"
      ],
      "text/plain": [
       "         Maxine  James  Amanda\n",
       "Morning    98.6   97.8    99.1\n",
       "Evening    98.8   98.5    99.3"
      ]
     },
     "execution_count": 37,
     "metadata": {},
     "output_type": "execute_result"
    }
   ],
   "source": [
    "# Part (e)\n",
    "temperatures.loc[['Morning', 'Evening']] # Shows only morning and evening temperatures for each person"
   ]
  },
  {
   "cell_type": "code",
   "execution_count": 44,
   "id": "96955511",
   "metadata": {
    "scrolled": false
   },
   "outputs": [
    {
     "data": {
      "text/html": [
       "<div>\n",
       "<style scoped>\n",
       "    .dataframe tbody tr th:only-of-type {\n",
       "        vertical-align: middle;\n",
       "    }\n",
       "\n",
       "    .dataframe tbody tr th {\n",
       "        vertical-align: top;\n",
       "    }\n",
       "\n",
       "    .dataframe thead th {\n",
       "        text-align: right;\n",
       "    }\n",
       "</style>\n",
       "<table border=\"1\" class=\"dataframe\">\n",
       "  <thead>\n",
       "    <tr style=\"text-align: right;\">\n",
       "      <th></th>\n",
       "      <th>Maxine</th>\n",
       "      <th>Amanda</th>\n",
       "    </tr>\n",
       "  </thead>\n",
       "  <tbody>\n",
       "    <tr>\n",
       "      <th>Morning</th>\n",
       "      <td>98.6</td>\n",
       "      <td>99.1</td>\n",
       "    </tr>\n",
       "    <tr>\n",
       "      <th>Afternoon</th>\n",
       "      <td>98.4</td>\n",
       "      <td>100.2</td>\n",
       "    </tr>\n",
       "    <tr>\n",
       "      <th>Evening</th>\n",
       "      <td>98.8</td>\n",
       "      <td>99.3</td>\n",
       "    </tr>\n",
       "  </tbody>\n",
       "</table>\n",
       "</div>"
      ],
      "text/plain": [
       "           Maxine  Amanda\n",
       "Morning      98.6    99.1\n",
       "Afternoon    98.4   100.2\n",
       "Evening      98.8    99.3"
      ]
     },
     "execution_count": 44,
     "metadata": {},
     "output_type": "execute_result"
    }
   ],
   "source": [
    "# Part (f)\n",
    "temperatures.loc['Morning':'Evening', ['Maxine', 'Amanda']] # Shows all temperatures for only Maxine and Amanda"
   ]
  },
  {
   "cell_type": "code",
   "execution_count": 46,
   "id": "54fd3961",
   "metadata": {},
   "outputs": [
    {
     "data": {
      "text/html": [
       "<div>\n",
       "<style scoped>\n",
       "    .dataframe tbody tr th:only-of-type {\n",
       "        vertical-align: middle;\n",
       "    }\n",
       "\n",
       "    .dataframe tbody tr th {\n",
       "        vertical-align: top;\n",
       "    }\n",
       "\n",
       "    .dataframe thead th {\n",
       "        text-align: right;\n",
       "    }\n",
       "</style>\n",
       "<table border=\"1\" class=\"dataframe\">\n",
       "  <thead>\n",
       "    <tr style=\"text-align: right;\">\n",
       "      <th></th>\n",
       "      <th>Maxine</th>\n",
       "      <th>Amanda</th>\n",
       "    </tr>\n",
       "  </thead>\n",
       "  <tbody>\n",
       "    <tr>\n",
       "      <th>Morning</th>\n",
       "      <td>98.6</td>\n",
       "      <td>99.1</td>\n",
       "    </tr>\n",
       "    <tr>\n",
       "      <th>Afternoon</th>\n",
       "      <td>98.4</td>\n",
       "      <td>100.2</td>\n",
       "    </tr>\n",
       "  </tbody>\n",
       "</table>\n",
       "</div>"
      ],
      "text/plain": [
       "           Maxine  Amanda\n",
       "Morning      98.6    99.1\n",
       "Afternoon    98.4   100.2"
      ]
     },
     "execution_count": 46,
     "metadata": {},
     "output_type": "execute_result"
    }
   ],
   "source": [
    "# Part (g)\n",
    "temperatures.loc[['Morning','Afternoon'], ['Maxine', 'Amanda']] # Shows only morning and afternoon temperatures for Maxine and Amanda"
   ]
  },
  {
   "cell_type": "code",
   "execution_count": 47,
   "id": "fc212c8b",
   "metadata": {},
   "outputs": [
    {
     "data": {
      "text/html": [
       "<div>\n",
       "<style scoped>\n",
       "    .dataframe tbody tr th:only-of-type {\n",
       "        vertical-align: middle;\n",
       "    }\n",
       "\n",
       "    .dataframe tbody tr th {\n",
       "        vertical-align: top;\n",
       "    }\n",
       "\n",
       "    .dataframe thead th {\n",
       "        text-align: right;\n",
       "    }\n",
       "</style>\n",
       "<table border=\"1\" class=\"dataframe\">\n",
       "  <thead>\n",
       "    <tr style=\"text-align: right;\">\n",
       "      <th></th>\n",
       "      <th>Maxine</th>\n",
       "      <th>James</th>\n",
       "      <th>Amanda</th>\n",
       "    </tr>\n",
       "  </thead>\n",
       "  <tbody>\n",
       "    <tr>\n",
       "      <th>count</th>\n",
       "      <td>3.0</td>\n",
       "      <td>3.000000</td>\n",
       "      <td>3.000000</td>\n",
       "    </tr>\n",
       "    <tr>\n",
       "      <th>mean</th>\n",
       "      <td>98.6</td>\n",
       "      <td>98.133333</td>\n",
       "      <td>99.533333</td>\n",
       "    </tr>\n",
       "    <tr>\n",
       "      <th>std</th>\n",
       "      <td>0.2</td>\n",
       "      <td>0.351188</td>\n",
       "      <td>0.585947</td>\n",
       "    </tr>\n",
       "    <tr>\n",
       "      <th>min</th>\n",
       "      <td>98.4</td>\n",
       "      <td>97.800000</td>\n",
       "      <td>99.100000</td>\n",
       "    </tr>\n",
       "    <tr>\n",
       "      <th>25%</th>\n",
       "      <td>98.5</td>\n",
       "      <td>97.950000</td>\n",
       "      <td>99.200000</td>\n",
       "    </tr>\n",
       "    <tr>\n",
       "      <th>50%</th>\n",
       "      <td>98.6</td>\n",
       "      <td>98.100000</td>\n",
       "      <td>99.300000</td>\n",
       "    </tr>\n",
       "    <tr>\n",
       "      <th>75%</th>\n",
       "      <td>98.7</td>\n",
       "      <td>98.300000</td>\n",
       "      <td>99.750000</td>\n",
       "    </tr>\n",
       "    <tr>\n",
       "      <th>max</th>\n",
       "      <td>98.8</td>\n",
       "      <td>98.500000</td>\n",
       "      <td>100.200000</td>\n",
       "    </tr>\n",
       "  </tbody>\n",
       "</table>\n",
       "</div>"
      ],
      "text/plain": [
       "       Maxine      James      Amanda\n",
       "count     3.0   3.000000    3.000000\n",
       "mean     98.6  98.133333   99.533333\n",
       "std       0.2   0.351188    0.585947\n",
       "min      98.4  97.800000   99.100000\n",
       "25%      98.5  97.950000   99.200000\n",
       "50%      98.6  98.100000   99.300000\n",
       "75%      98.7  98.300000   99.750000\n",
       "max      98.8  98.500000  100.200000"
      ]
     },
     "execution_count": 47,
     "metadata": {},
     "output_type": "execute_result"
    }
   ],
   "source": [
    "# Part (h)\n",
    "temperatures.describe() # Produces temperatures' descriptive statistics"
   ]
  },
  {
   "cell_type": "code",
   "execution_count": 48,
   "id": "fa063a2b",
   "metadata": {},
   "outputs": [
    {
     "data": {
      "text/html": [
       "<div>\n",
       "<style scoped>\n",
       "    .dataframe tbody tr th:only-of-type {\n",
       "        vertical-align: middle;\n",
       "    }\n",
       "\n",
       "    .dataframe tbody tr th {\n",
       "        vertical-align: top;\n",
       "    }\n",
       "\n",
       "    .dataframe thead th {\n",
       "        text-align: right;\n",
       "    }\n",
       "</style>\n",
       "<table border=\"1\" class=\"dataframe\">\n",
       "  <thead>\n",
       "    <tr style=\"text-align: right;\">\n",
       "      <th></th>\n",
       "      <th>Morning</th>\n",
       "      <th>Afternoon</th>\n",
       "      <th>Evening</th>\n",
       "    </tr>\n",
       "  </thead>\n",
       "  <tbody>\n",
       "    <tr>\n",
       "      <th>Maxine</th>\n",
       "      <td>98.6</td>\n",
       "      <td>98.4</td>\n",
       "      <td>98.8</td>\n",
       "    </tr>\n",
       "    <tr>\n",
       "      <th>James</th>\n",
       "      <td>97.8</td>\n",
       "      <td>98.1</td>\n",
       "      <td>98.5</td>\n",
       "    </tr>\n",
       "    <tr>\n",
       "      <th>Amanda</th>\n",
       "      <td>99.1</td>\n",
       "      <td>100.2</td>\n",
       "      <td>99.3</td>\n",
       "    </tr>\n",
       "  </tbody>\n",
       "</table>\n",
       "</div>"
      ],
      "text/plain": [
       "        Morning  Afternoon  Evening\n",
       "Maxine     98.6       98.4     98.8\n",
       "James      97.8       98.1     98.5\n",
       "Amanda     99.1      100.2     99.3"
      ]
     },
     "execution_count": 48,
     "metadata": {},
     "output_type": "execute_result"
    }
   ],
   "source": [
    "# Part (i)\n",
    "temperatures.T # Transpose the temperatures table"
   ]
  },
  {
   "cell_type": "code",
   "execution_count": 49,
   "id": "6125933f",
   "metadata": {},
   "outputs": [
    {
     "data": {
      "text/html": [
       "<div>\n",
       "<style scoped>\n",
       "    .dataframe tbody tr th:only-of-type {\n",
       "        vertical-align: middle;\n",
       "    }\n",
       "\n",
       "    .dataframe tbody tr th {\n",
       "        vertical-align: top;\n",
       "    }\n",
       "\n",
       "    .dataframe thead th {\n",
       "        text-align: right;\n",
       "    }\n",
       "</style>\n",
       "<table border=\"1\" class=\"dataframe\">\n",
       "  <thead>\n",
       "    <tr style=\"text-align: right;\">\n",
       "      <th></th>\n",
       "      <th>Amanda</th>\n",
       "      <th>James</th>\n",
       "      <th>Maxine</th>\n",
       "    </tr>\n",
       "  </thead>\n",
       "  <tbody>\n",
       "    <tr>\n",
       "      <th>Morning</th>\n",
       "      <td>99.1</td>\n",
       "      <td>97.8</td>\n",
       "      <td>98.6</td>\n",
       "    </tr>\n",
       "    <tr>\n",
       "      <th>Afternoon</th>\n",
       "      <td>100.2</td>\n",
       "      <td>98.1</td>\n",
       "      <td>98.4</td>\n",
       "    </tr>\n",
       "    <tr>\n",
       "      <th>Evening</th>\n",
       "      <td>99.3</td>\n",
       "      <td>98.5</td>\n",
       "      <td>98.8</td>\n",
       "    </tr>\n",
       "  </tbody>\n",
       "</table>\n",
       "</div>"
      ],
      "text/plain": [
       "           Amanda  James  Maxine\n",
       "Morning      99.1   97.8    98.6\n",
       "Afternoon   100.2   98.1    98.4\n",
       "Evening      99.3   98.5    98.8"
      ]
     },
     "execution_count": 49,
     "metadata": {},
     "output_type": "execute_result"
    }
   ],
   "source": [
    "# Part (j)\n",
    "temperatures.sort_index(axis=1) # Sorts the table alphabetically by column indices"
   ]
  },
  {
   "cell_type": "markdown",
   "id": "959541e2",
   "metadata": {},
   "source": [
    "# 8.3 Pig Latin"
   ]
  },
  {
   "cell_type": "markdown",
   "id": "63e4cd81",
   "metadata": {},
   "source": [
    "Below, we are creating a function that will encode English-language phrases into pig Latin. First, we will ask the user to input an English sentence under a set of assumptions (such as words being separated by blanks, no punctuation marks, and two or more letters per word). Then we will convert this sentence into a list of words that we can work with. Using string concatenation, we can either add just an '-ay' to the end of the word if it starts with a vowel or use conventional pig Latin standards to transform the word otherwise. At the end, we return a fully converted English sentence into pig Latin."
   ]
  },
  {
   "cell_type": "code",
   "execution_count": 92,
   "id": "82ca3d6a",
   "metadata": {
    "scrolled": false
   },
   "outputs": [
    {
     "name": "stdout",
     "output_type": "stream",
     "text": [
      "Enter a sentence: Hello my name is Andrew Wang\n"
     ]
    },
    {
     "data": {
      "text/plain": [
       "'ellohay ymay amenay isay andreway angway'"
      ]
     },
     "execution_count": 92,
     "metadata": {},
     "output_type": "execute_result"
    }
   ],
   "source": [
    "def pig_latin(english_phrase = str(input('Enter a sentence: '))):\n",
    "    \"\"\"Receive an English sentence and convert it to pig Latin.\"\"\"\n",
    "    list_of_words = english_phrase.split() # Split the sentence into a list of individual words\n",
    "    lower_list_of_words = [word.lower() for word in list_of_words] # Make each character the same case so it's easier to work with\n",
    "    translated_list = [] # Create an empty list where we will enter the translated English words into Pig Latin below\n",
    "    for word in lower_list_of_words:\n",
    "        if word.startswith('a') or word.startswith('e') or word.startswith('i') or word.startswith('o') or word.startswith('u'): # This will just add an 'ay' to the end of the word if it starts with a vowel\n",
    "            translated_list += [word + 'ay']\n",
    "        else:\n",
    "            translated_list += [word[1:] + word[0] + 'ay'] # Regular pig latin conventions for non-vowel starting words\n",
    "    return ' '.join(translated_list)\n",
    "\n",
    "pig_latin()"
   ]
  },
  {
   "cell_type": "markdown",
   "id": "c7d58212",
   "metadata": {},
   "source": [
    "# 8.8 Converting Integers to Emojis"
   ]
  },
  {
   "cell_type": "markdown",
   "id": "e26cb5d0",
   "metadata": {},
   "source": [
    "Below, I've selected some emojis I like using `c` presentation."
   ]
  },
  {
   "cell_type": "code",
   "execution_count": 90,
   "id": "0be5208e",
   "metadata": {},
   "outputs": [
    {
     "data": {
      "text/plain": [
       "'😁 🙃 🤑 🤐 😴 🤯 😭 💀 💯 👌'"
      ]
     },
     "execution_count": 90,
     "metadata": {},
     "output_type": "execute_result"
    }
   ],
   "source": [
    "f'{0x1F601:c} {0x1F643:c} {0x1F911:c} {0x1F910:c} {0x1F634:c} {0x1F92F:c} {0x1F62D:c} {0x1F480:c} {0x1F4AF:c} {0x1F44C:c}'"
   ]
  },
  {
   "cell_type": "markdown",
   "id": "b4f32126",
   "metadata": {},
   "source": [
    "# 8.13 Regular Expressions: Condense Spaces to a Single Space"
   ]
  },
  {
   "cell_type": "markdown",
   "id": "3bbae8a5",
   "metadata": {},
   "source": [
    "For this function, we're checking whether a sentence contains more than one space between words. To do so, I first did a `strip` of the function to eliminate any whitespaces at the front and end of the sentence if there was any. Then, I used the `re.sub` expression to eliminate any extra whitespaces between the words in the sentence. Finally, I'm letting the user know if the sentence had the correct number of spaces by comparing it to the original sentence inputted. If there were no changes made, it's correct. If there were changes to the original, I let them know it was incorrect and displayed the new correct version of the sentence."
   ]
  },
  {
   "cell_type": "code",
   "execution_count": 91,
   "id": "8ac31ae4",
   "metadata": {},
   "outputs": [],
   "source": [
    "import re # import the Python Library 're' to use regular expressions"
   ]
  },
  {
   "cell_type": "code",
   "execution_count": 134,
   "id": "1b2b7253",
   "metadata": {},
   "outputs": [],
   "source": [
    "def condense_space(sentence):\n",
    "    \"\"\"Check whether a sentence contains more than one space between words.\"\"\"\n",
    "    stripped_sentence = sentence.strip() # Strip whitespace at the beginning of the sentence first\n",
    "    new_sentence = re.sub(r'\\s+', ' ', stripped_sentence) # Strip any extra whitespace between the words in the sentence\n",
    "    if new_sentence == sentence: # Compare new sentence to original to see if it was correct initially\n",
    "        print('Your sentence contains the right number of spaces.')\n",
    "    else:\n",
    "        print('Your sentence contains too many spaces.')\n",
    "        print('Here is the correct version:', new_sentence)"
   ]
  },
  {
   "cell_type": "markdown",
   "id": "27c64c5f",
   "metadata": {},
   "source": [
    "Below are two instances where I've called the function, first with a correct sentence and then with an incorrect sentence."
   ]
  },
  {
   "cell_type": "code",
   "execution_count": 132,
   "id": "25fad712",
   "metadata": {},
   "outputs": [
    {
     "name": "stdout",
     "output_type": "stream",
     "text": [
      "Your sentence contains the right number of spaces.\n"
     ]
    }
   ],
   "source": [
    "phrase1 = 'Hello world I am Andrew'\n",
    "condense_space(phrase1)"
   ]
  },
  {
   "cell_type": "code",
   "execution_count": 133,
   "id": "e105f4c3",
   "metadata": {},
   "outputs": [
    {
     "name": "stdout",
     "output_type": "stream",
     "text": [
      "Your sentence contains too many spaces.\n",
      "Here is the correct version: Hello world\n"
     ]
    }
   ],
   "source": [
    "phrase2 = 'Hello     world'\n",
    "condense_space(phrase2)"
   ]
  }
 ],
 "metadata": {
  "kernelspec": {
   "display_name": "Python 3",
   "language": "python",
   "name": "python3"
  },
  "language_info": {
   "codemirror_mode": {
    "name": "ipython",
    "version": 3
   },
   "file_extension": ".py",
   "mimetype": "text/x-python",
   "name": "python",
   "nbconvert_exporter": "python",
   "pygments_lexer": "ipython3",
   "version": "3.8.8"
  }
 },
 "nbformat": 4,
 "nbformat_minor": 5
}
