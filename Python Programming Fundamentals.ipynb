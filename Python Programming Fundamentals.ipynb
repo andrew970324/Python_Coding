{
 "cells": [
  {
   "cell_type": "code",
   "execution_count": 1,
   "id": "803c73a0",
   "metadata": {},
   "outputs": [
    {
     "name": "stdout",
     "output_type": "stream",
     "text": [
      "x = 2\n",
      "Value of 2 + 2 is 4\n",
      "x =\n",
      "5 = 5\n"
     ]
    }
   ],
   "source": [
    "# 2.1 What does this code do?\n",
    "x = 2\n",
    "y = 3\n",
    "print('x =', x)\n",
    "print('Value of', x, '+', x, 'is', (x+x))\n",
    "print('x =')\n",
    "print((x+y), '=', (y+x))"
   ]
  },
  {
   "cell_type": "markdown",
   "id": "79b47e32",
   "metadata": {},
   "source": [
    "a) This will print out the following: x = 2"
   ]
  },
  {
   "cell_type": "markdown",
   "id": "e711a539",
   "metadata": {},
   "source": [
    "b) This will print out the following: Value of 2 + 2 is 4"
   ]
  },
  {
   "cell_type": "markdown",
   "id": "eba6703f",
   "metadata": {},
   "source": [
    "c) This will print out the following: x ="
   ]
  },
  {
   "cell_type": "markdown",
   "id": "0ba26203",
   "metadata": {},
   "source": [
    "d) This will print out the following: 5 = 5"
   ]
  },
  {
   "cell_type": "code",
   "execution_count": 2,
   "id": "dd068980",
   "metadata": {},
   "outputs": [
    {
     "name": "stdout",
     "output_type": "stream",
     "text": [
      "Enter an integer rating between 1 and 105\n"
     ]
    }
   ],
   "source": [
    "# 2.2 What's wrong with this code?\n",
    "rating = input('Enter an integer rating between 1 and 10')"
   ]
  },
  {
   "cell_type": "markdown",
   "id": "168295b1",
   "metadata": {},
   "source": [
    "I believe there's two things that can be corrected with the above code. First, I think it could be formatted better after you enter the integer rating so it looks a little more clear, so I would add a \": '\" into the code. Second, the input function always returns a string so you need to convert it into an integer type so you can read it as an integer. I've made these corrections below."
   ]
  },
  {
   "cell_type": "code",
   "execution_count": 3,
   "id": "ed6290fa",
   "metadata": {},
   "outputs": [
    {
     "name": "stdout",
     "output_type": "stream",
     "text": [
      "Enter an integer rating between 1 and 10: 5\n"
     ]
    }
   ],
   "source": [
    "rating = int(input('Enter an integer rating between 1 and 10: '))"
   ]
  },
  {
   "cell_type": "code",
   "execution_count": 4,
   "id": "67469ea7",
   "metadata": {},
   "outputs": [
    {
     "name": "stdout",
     "output_type": "stream",
     "text": [
      "Enter first integer: 1\n",
      "Enter second integer: 2\n",
      "Enter third integer: 3\n",
      "Sum:  6\n",
      "Average:  2.0\n",
      "Product:  6\n",
      "Smallest:  1\n",
      "Largest:  3\n"
     ]
    }
   ],
   "source": [
    "# 2.10 Arithmetic, Smallest and Largest\n",
    "int_1 = int(input('Enter first integer: '))\n",
    "int_2 = int(input('Enter second integer: '))\n",
    "int_3 = int(input('Enter third integer: '))\n",
    "\n",
    "print('Sum: ', (int_1 + int_2 + int_3))\n",
    "print('Average: ', ((int_1 + int_2 + int_3)/3))\n",
    "print('Product: ', (int_1 * int_2 * int_3))\n",
    "print('Smallest: ', min(int_1, int_2, int_3))\n",
    "print('Largest: ', max(int_1, int_2, int_3))"
   ]
  },
  {
   "cell_type": "code",
   "execution_count": 5,
   "id": "5c009b85",
   "metadata": {},
   "outputs": [
    {
     "name": "stdout",
     "output_type": "stream",
     "text": [
      "Money after 10 years: $1967.15\n",
      "Money after 20 years: $3869.68\n",
      "Money after 30 years: $7612.26\n"
     ]
    }
   ],
   "source": [
    "# 2.12 7% Investment Return\n",
    "p = 1000\n",
    "r = .07\n",
    "print('Money after 10 years:', '$' + str(round(p * (1 + r) ** 10, 2)))\n",
    "print('Money after 20 years:', '$' + str(round(p * (1 + r) ** 20, 2)))\n",
    "print('Money after 30 years:', '$' + str(round(p * (1 + r) ** 30, 2)))"
   ]
  },
  {
   "cell_type": "code",
   "execution_count": 6,
   "id": "d993fb64",
   "metadata": {},
   "outputs": [
    {
     "name": "stdout",
     "output_type": "stream",
     "text": [
      "10000000000\n",
      "10000000000000000000000000000000000000000000000000000000000000000000000000000000000000000000000000000\n",
      "10000000000000000000000000000000000000000000000000000000000000000000000000000000000000000000000000000000000000000000000000000000000000000000000000000000000000000000000000000000000000000000000000000000000000000000000000000000000000000000000000000000000000000000000000000000000000000000000000000000000000000000000000000000000000000000000000000000000000000000000000000000000000000000000000000000000000000000000000000000000000000000000000000000000000000000000000000000000000000000000000000000000000000000000000000000000000000000000000000000000000000000000000000000000000000000000000000000000000000000000000000000000000000000000000000000000000000000000000000000000000000000000000000000000000000000000000000000000000000000000000000000000000000000000000000000000000000000000000000000000000000000000000000000000000000000000000000000000000000000000000000000000000000000000000000000000000000000000000000000000000000000000000000000000000000000000000000000000000000000000000000000000000000000000000000000000000000\n"
     ]
    }
   ],
   "source": [
    "# 2.13 How Big Can Python Integers Be?\n",
    "variable_1 = 10 ** 10\n",
    "variable_2 = 10 ** 100\n",
    "variable_3 = 10 ** 1000\n",
    "print(variable_1)\n",
    "print(variable_2)\n",
    "print(variable_3)"
   ]
  },
  {
   "cell_type": "markdown",
   "id": "ed346c62",
   "metadata": {},
   "source": [
    "It looks like all the above variables had these large integer values stored, so I didn't find any integer value that python doesn't accept."
   ]
  },
  {
   "cell_type": "code",
   "execution_count": 7,
   "id": "fa9e7d11",
   "metadata": {},
   "outputs": [
    {
     "name": "stdout",
     "output_type": "stream",
     "text": [
      "Enter a five-digit integer: 38297\n",
      "3   8   2   9   7\n"
     ]
    }
   ],
   "source": [
    "# 2.11 Separating the Digits in an Integer (Optional)\n",
    "five_digit_integer = int(input('Enter a five-digit integer: '))\n",
    "print(five_digit_integer // 10000, ' ', (five_digit_integer // 1000) % 10, ' ', (five_digit_integer // 100) % (five_digit_integer // 1000), ' ', (five_digit_integer // 10) % (five_digit_integer // 100), ' ', five_digit_integer % (five_digit_integer // 10))"
   ]
  }
 ],
 "metadata": {
  "kernelspec": {
   "display_name": "Python 3",
   "language": "python",
   "name": "python3"
  },
  "language_info": {
   "codemirror_mode": {
    "name": "ipython",
    "version": 3
   },
   "file_extension": ".py",
   "mimetype": "text/x-python",
   "name": "python",
   "nbconvert_exporter": "python",
   "pygments_lexer": "ipython3",
   "version": "3.8.8"
  }
 },
 "nbformat": 4,
 "nbformat_minor": 5
}
