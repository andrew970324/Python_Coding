{
 "cells": [
  {
   "cell_type": "markdown",
   "id": "e1e8f8b6",
   "metadata": {},
   "source": [
    "Self-assessment: I felt pretty confident with this week's exercises as they were quite straightforward. I only had a bit of initial trouble with writing the function in exercise 6.6 but figured it out relatively quickly after a bit of trial and error."
   ]
  },
  {
   "cell_type": "markdown",
   "id": "82702b10",
   "metadata": {},
   "source": [
    "# 6.3 What Does This Code Do?"
   ]
  },
  {
   "cell_type": "markdown",
   "id": "97380a8a",
   "metadata": {},
   "source": [
    "The code below first creates a dictionary called `temperatures` which contains three separate Fahrenheit temperatures for each of four days (Monday through Thursday). The `for` statement specifically will iterate through `temperature`'s key-value pairs and print out the keys of this dictionary with `k` and then printing the average of each keys' values with `v`. The `items()` method also allows us to return each key-value pair as a tuple. Each of the temperatures will have 2 decimal points as well. "
   ]
  },
  {
   "cell_type": "code",
   "execution_count": 66,
   "id": "88876768",
   "metadata": {},
   "outputs": [
    {
     "name": "stdout",
     "output_type": "stream",
     "text": [
      "Monday: 70.00\n",
      "Tuesday: 56.67\n",
      "Wednesday: 79.33\n",
      "Thursday: 74.00\n"
     ]
    }
   ],
   "source": [
    "temperatures = {\n",
    "    'Monday': [66, 70, 74],\n",
    "    'Tuesday': [50, 56, 64],\n",
    "    'Wednesday': [75, 80, 83],\n",
    "    'Thursday': [67, 74, 81]\n",
    "}\n",
    "\n",
    "for k, v in temperatures.items():\n",
    "    print(f'{k}: {sum(v)/len(v):.2f}')"
   ]
  },
  {
   "cell_type": "markdown",
   "id": "7caaa748",
   "metadata": {},
   "source": [
    "# 6.6 Data Science: Duplicate Word Removal"
   ]
  },
  {
   "cell_type": "code",
   "execution_count": 67,
   "id": "f3193480",
   "metadata": {},
   "outputs": [
    {
     "name": "stdout",
     "output_type": "stream",
     "text": [
      "APPLE BANANA CAT DOG "
     ]
    }
   ],
   "source": [
    "def ordered_unique(word_list):\n",
    "    \"\"\"Receives a list of words, then displays only unique words in alphabetical order.\"\"\"\n",
    "    same_case_list = []\n",
    "    for i in range(len(word_list)):\n",
    "        same_case_list.append(word_list[i].upper()) # Creates a new list with all words in the same uppercase\n",
    "    unique_words = set(same_case_list) # Changes the list to a set to get the unique words only\n",
    "    final_list = list(unique_words) # Change the set back to a list so we can sort the words alphabetically\n",
    "    final_list.sort() # Uses the 'sort' function to get words in alphabetical order\n",
    "    for word in final_list:\n",
    "        print(word, end=' ')\n",
    "\n",
    "words = ['Apple', 'apple', 'cat', 'DOG', 'Banana']\n",
    "\n",
    "ordered_unique(words)"
   ]
  },
  {
   "cell_type": "markdown",
   "id": "df437c7c",
   "metadata": {},
   "source": [
    "# 6.9 Dictionary Manipulations"
   ]
  },
  {
   "cell_type": "code",
   "execution_count": 68,
   "id": "3e81825b",
   "metadata": {},
   "outputs": [],
   "source": [
    "tlds = {'Canada': 'ca', 'United States': 'us', 'Mexico': 'mx'}"
   ]
  },
  {
   "cell_type": "code",
   "execution_count": 69,
   "id": "9fa536e5",
   "metadata": {},
   "outputs": [
    {
     "data": {
      "text/plain": [
       "True"
      ]
     },
     "execution_count": 69,
     "metadata": {},
     "output_type": "execute_result"
    }
   ],
   "source": [
    "'Canada' in tlds # Part (a) "
   ]
  },
  {
   "cell_type": "code",
   "execution_count": 70,
   "id": "11ed6f05",
   "metadata": {},
   "outputs": [
    {
     "data": {
      "text/plain": [
       "False"
      ]
     },
     "execution_count": 70,
     "metadata": {},
     "output_type": "execute_result"
    }
   ],
   "source": [
    "'France' in tlds # Part (b) "
   ]
  },
  {
   "cell_type": "code",
   "execution_count": 71,
   "id": "3c33b44f",
   "metadata": {},
   "outputs": [
    {
     "name": "stdout",
     "output_type": "stream",
     "text": [
      "      Country      Code\n",
      "       Canada        ca\n",
      "United States        us\n",
      "       Mexico        mx\n"
     ]
    }
   ],
   "source": [
    "print(f'{\"Country\":>13}{\"Code\":>10}') # Part (c) \n",
    "for country, code in tlds.items():\n",
    "    print(f'{country:>13}{code:>10}')"
   ]
  },
  {
   "cell_type": "code",
   "execution_count": 72,
   "id": "92648c37",
   "metadata": {},
   "outputs": [
    {
     "data": {
      "text/plain": [
       "{'Canada': 'ca', 'United States': 'us', 'Mexico': 'mx', 'Sweden': 'sw'}"
      ]
     },
     "execution_count": 72,
     "metadata": {},
     "output_type": "execute_result"
    }
   ],
   "source": [
    "tlds['Sweden'] = 'sw' # Part (d)\n",
    "tlds"
   ]
  },
  {
   "cell_type": "code",
   "execution_count": 73,
   "id": "912914bb",
   "metadata": {},
   "outputs": [
    {
     "data": {
      "text/plain": [
       "{'Canada': 'ca', 'United States': 'us', 'Mexico': 'mx', 'Sweden': 'se'}"
      ]
     },
     "execution_count": 73,
     "metadata": {},
     "output_type": "execute_result"
    }
   ],
   "source": [
    "tlds['Sweden'] = 'se' # Part (e)\n",
    "tlds"
   ]
  },
  {
   "cell_type": "code",
   "execution_count": 74,
   "id": "8d36a04c",
   "metadata": {},
   "outputs": [
    {
     "data": {
      "text/plain": [
       "{'ca': 'Canada', 'us': 'United States', 'mx': 'Mexico', 'se': 'Sweden'}"
      ]
     },
     "execution_count": 74,
     "metadata": {},
     "output_type": "execute_result"
    }
   ],
   "source": [
    "reverse_tlds = {code: country for country, code in tlds.items()} # Part (f)\n",
    "reverse_tlds"
   ]
  },
  {
   "cell_type": "code",
   "execution_count": 75,
   "id": "929b09c9",
   "metadata": {},
   "outputs": [
    {
     "data": {
      "text/plain": [
       "{'ca': 'CANADA', 'us': 'UNITED STATES', 'mx': 'MEXICO', 'se': 'SWEDEN'}"
      ]
     },
     "execution_count": 75,
     "metadata": {},
     "output_type": "execute_result"
    }
   ],
   "source": [
    "uppercase_tlds = {code: country.upper() for code, country in reverse_tlds.items()} # Part (g)\n",
    "uppercase_tlds"
   ]
  },
  {
   "cell_type": "markdown",
   "id": "657b4d6c",
   "metadata": {},
   "source": [
    "# 7.2 Broadcasting"
   ]
  },
  {
   "cell_type": "code",
   "execution_count": 76,
   "id": "737151b0",
   "metadata": {},
   "outputs": [],
   "source": [
    "import numpy as np\n",
    "\n",
    "original = np.arange(4).reshape(2, 2) # Create the original array to operate on"
   ]
  },
  {
   "cell_type": "code",
   "execution_count": 77,
   "id": "6d452850",
   "metadata": {},
   "outputs": [
    {
     "data": {
      "text/plain": [
       "array([[ 0,  1],\n",
       "       [ 8, 27]], dtype=int32)"
      ]
     },
     "execution_count": 77,
     "metadata": {},
     "output_type": "execute_result"
    }
   ],
   "source": [
    "original ** 3 # Part (a)"
   ]
  },
  {
   "cell_type": "code",
   "execution_count": 78,
   "id": "325377a5",
   "metadata": {},
   "outputs": [
    {
     "data": {
      "text/plain": [
       "array([[ 7,  8],\n",
       "       [ 9, 10]])"
      ]
     },
     "execution_count": 78,
     "metadata": {},
     "output_type": "execute_result"
    }
   ],
   "source": [
    "original + 7 # Part (b)"
   ]
  },
  {
   "cell_type": "code",
   "execution_count": 79,
   "id": "d9bf427e",
   "metadata": {},
   "outputs": [
    {
     "data": {
      "text/plain": [
       "array([[0, 2],\n",
       "       [4, 6]])"
      ]
     },
     "execution_count": 79,
     "metadata": {},
     "output_type": "execute_result"
    }
   ],
   "source": [
    "original * 2 # Part (c)"
   ]
  },
  {
   "cell_type": "markdown",
   "id": "6a1007f5",
   "metadata": {},
   "source": [
    "# 7.3 Element-Wise `array` Multiplication"
   ]
  },
  {
   "cell_type": "code",
   "execution_count": 80,
   "id": "8138e35e",
   "metadata": {},
   "outputs": [
    {
     "data": {
      "text/plain": [
       "array([[18, 32, 42],\n",
       "       [48, 50, 48],\n",
       "       [42, 32, 18]])"
      ]
     },
     "execution_count": 80,
     "metadata": {},
     "output_type": "execute_result"
    }
   ],
   "source": [
    "import numpy as np\n",
    "\n",
    "first_array = np.arange(2, 19, 2).reshape(3, 3)\n",
    "second_array = np.arange(9, 0, -1).reshape(3, 3)\n",
    "\n",
    "first_array * second_array"
   ]
  },
  {
   "cell_type": "markdown",
   "id": "9c497e2d",
   "metadata": {},
   "source": [
    "# 7.9 Data Science: Indexing and Slicing `arrays`"
   ]
  },
  {
   "cell_type": "code",
   "execution_count": 81,
   "id": "45db63bc",
   "metadata": {},
   "outputs": [
    {
     "data": {
      "text/plain": [
       "array([[ 1,  2,  3,  4,  5],\n",
       "       [ 6,  7,  8,  9, 10],\n",
       "       [11, 12, 13, 14, 15]])"
      ]
     },
     "execution_count": 81,
     "metadata": {},
     "output_type": "execute_result"
    }
   ],
   "source": [
    "import numpy as np\n",
    "\n",
    "the_array = np.arange(1, 16).reshape(3, 5)\n",
    "the_array # Show the original array to make it easier to slice/index below"
   ]
  },
  {
   "cell_type": "code",
   "execution_count": 82,
   "id": "37445d0d",
   "metadata": {},
   "outputs": [
    {
     "data": {
      "text/plain": [
       "array([11, 12, 13, 14, 15])"
      ]
     },
     "execution_count": 82,
     "metadata": {},
     "output_type": "execute_result"
    }
   ],
   "source": [
    "the_array[2] # Part (a) selecting row 2"
   ]
  },
  {
   "cell_type": "code",
   "execution_count": 83,
   "id": "28de0c6d",
   "metadata": {},
   "outputs": [
    {
     "data": {
      "text/plain": [
       "array([ 5, 10, 15])"
      ]
     },
     "execution_count": 83,
     "metadata": {},
     "output_type": "execute_result"
    }
   ],
   "source": [
    "the_array[:, -1] # Part (b) selecting column 5"
   ]
  },
  {
   "cell_type": "code",
   "execution_count": 84,
   "id": "77328d03",
   "metadata": {},
   "outputs": [
    {
     "data": {
      "text/plain": [
       "array([[ 1,  2,  3,  4,  5],\n",
       "       [ 6,  7,  8,  9, 10]])"
      ]
     },
     "execution_count": 84,
     "metadata": {},
     "output_type": "execute_result"
    }
   ],
   "source": [
    "the_array[0:2] # Part (c) selecting rows 0 and 1"
   ]
  },
  {
   "cell_type": "code",
   "execution_count": 85,
   "id": "60514265",
   "metadata": {
    "scrolled": true
   },
   "outputs": [
    {
     "data": {
      "text/plain": [
       "array([[ 3,  4],\n",
       "       [ 8,  9],\n",
       "       [13, 14]])"
      ]
     },
     "execution_count": 85,
     "metadata": {},
     "output_type": "execute_result"
    }
   ],
   "source": [
    "the_array[:, 2:4] # Part (d) selecting columns 2-4"
   ]
  },
  {
   "cell_type": "code",
   "execution_count": 86,
   "id": "77edbf69",
   "metadata": {},
   "outputs": [
    {
     "data": {
      "text/plain": [
       "4"
      ]
     },
     "execution_count": 86,
     "metadata": {},
     "output_type": "execute_result"
    }
   ],
   "source": [
    "the_array[0, 3] # Part (e) selecting the element in the first row and fourth column"
   ]
  },
  {
   "cell_type": "code",
   "execution_count": 87,
   "id": "9f2dacf9",
   "metadata": {},
   "outputs": [
    {
     "data": {
      "text/plain": [
       "array([[ 6,  8, 10],\n",
       "       [11, 13, 15]])"
      ]
     },
     "execution_count": 87,
     "metadata": {},
     "output_type": "execute_result"
    }
   ],
   "source": [
    "the_array[1:3, [0, 2, 4]] # Part (f) selecting elements from rows 1 and 2 in columns 0, 2 and 4"
   ]
  },
  {
   "cell_type": "markdown",
   "id": "7cc44a99",
   "metadata": {},
   "source": [
    "# 7.14 Data Science: Horizontal and Vertical Stacking"
   ]
  },
  {
   "cell_type": "code",
   "execution_count": 88,
   "id": "9808f849",
   "metadata": {},
   "outputs": [],
   "source": [
    "import numpy as np\n",
    "\n",
    "array1 = np.array([[0, 1], [2, 3]])\n",
    "array2 = np.array([[4, 5], [6, 7]]) # Create original arrays for stacking"
   ]
  },
  {
   "cell_type": "code",
   "execution_count": 89,
   "id": "85bf4f0a",
   "metadata": {},
   "outputs": [
    {
     "data": {
      "text/plain": [
       "array([[0, 1],\n",
       "       [2, 3],\n",
       "       [4, 5],\n",
       "       [6, 7]])"
      ]
     },
     "execution_count": 89,
     "metadata": {},
     "output_type": "execute_result"
    }
   ],
   "source": [
    "array3 = np.vstack((array1, array2)) # Part (a) to create a 4-by-2 array\n",
    "array3"
   ]
  },
  {
   "cell_type": "code",
   "execution_count": 90,
   "id": "b92f5b96",
   "metadata": {},
   "outputs": [
    {
     "data": {
      "text/plain": [
       "array([[0, 1, 4, 5],\n",
       "       [2, 3, 6, 7]])"
      ]
     },
     "execution_count": 90,
     "metadata": {},
     "output_type": "execute_result"
    }
   ],
   "source": [
    "array4 = np.hstack((array1, array2)) # Part (b) to create a 2-by-4 array\n",
    "array4"
   ]
  },
  {
   "cell_type": "code",
   "execution_count": 91,
   "id": "44019f44",
   "metadata": {},
   "outputs": [
    {
     "data": {
      "text/plain": [
       "array([[0, 1, 4, 5],\n",
       "       [2, 3, 6, 7],\n",
       "       [0, 1, 4, 5],\n",
       "       [2, 3, 6, 7]])"
      ]
     },
     "execution_count": 91,
     "metadata": {},
     "output_type": "execute_result"
    }
   ],
   "source": [
    "array5 = np.vstack((array4, array4)) # Part (c) to create a 4-by-4 array\n",
    "array5"
   ]
  },
  {
   "cell_type": "code",
   "execution_count": 92,
   "id": "190331a8",
   "metadata": {},
   "outputs": [
    {
     "data": {
      "text/plain": [
       "array([[0, 1, 0, 1],\n",
       "       [2, 3, 2, 3],\n",
       "       [4, 5, 4, 5],\n",
       "       [6, 7, 6, 7]])"
      ]
     },
     "execution_count": 92,
     "metadata": {},
     "output_type": "execute_result"
    }
   ],
   "source": [
    "array6 = np.hstack((array3, array3)) # Part (d) to create a 4-by-4 array\n",
    "array6"
   ]
  }
 ],
 "metadata": {
  "kernelspec": {
   "display_name": "Python 3",
   "language": "python",
   "name": "python3"
  },
  "language_info": {
   "codemirror_mode": {
    "name": "ipython",
    "version": 3
   },
   "file_extension": ".py",
   "mimetype": "text/x-python",
   "name": "python",
   "nbconvert_exporter": "python",
   "pygments_lexer": "ipython3",
   "version": "3.8.8"
  }
 },
 "nbformat": 4,
 "nbformat_minor": 5
}
